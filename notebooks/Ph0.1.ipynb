{
 "cells": [
  {
   "cell_type": "code",
   "execution_count": null,
   "id": "c86e8237",
   "metadata": {},
   "outputs": [
    {
     "name": "stdout",
     "output_type": "stream",
     "text": [
      "✅ API key loaded successfully.\n"
     ]
    }
   ],
   "source": [
    "# Cell 1 - Load OpenAI API key from .env\n",
    "from dotenv import load_dotenv\n",
    "import os\n",
    "\n",
    "import openai\n",
    "from openai import OpenAI\n",
    "import re\n",
    "\n",
    "import json\n",
    "import streamlit as st"
   ]
  },
  {
   "cell_type": "code",
   "execution_count": null,
   "id": "3174f470",
   "metadata": {},
   "outputs": [],
   "source": [
    "\n",
    "\n",
    "load_dotenv()\n",
    "OPENAI_API_KEY = os.getenv(\"OPENAI_API_KEY\")\n",
    "\n",
    "if OPENAI_API_KEY:\n",
    "    print(\"✅ API key loaded successfully.\")\n",
    "else:\n",
    "    print(\"❌ Failed to load API key. Please check your .env file.\")\n"
   ]
  },
  {
   "cell_type": "code",
   "execution_count": 3,
   "id": "3092d881",
   "metadata": {},
   "outputs": [],
   "source": [
    "#GPT_MODEL=\"gpt-4\"\n",
    "#GPT_MODEL=\"gpt-3.5-turbo\"\n",
    "GPT_MODEL = \"gpt-4o-mini\"\n",
    "\n"
   ]
  },
  {
   "cell_type": "code",
   "execution_count": 4,
   "id": "acd066e0",
   "metadata": {},
   "outputs": [
    {
     "name": "stdout",
     "output_type": "stream",
     "text": [
      "OpenAI library version: 1.60.1\n"
     ]
    }
   ],
   "source": [
    "print(\"OpenAI library version:\", openai.__version__)\n",
    "\n",
    "load_dotenv()\n",
    "\n",
    "client = OpenAI(\n",
    "    api_key=os.getenv(\"OPENAI_API_KEY\"),\n",
    "    organization=os.getenv(\"OPENAI_ORG_ID\")\n",
    ")"
   ]
  },
  {
   "cell_type": "code",
   "execution_count": 5,
   "id": "8fb137f6",
   "metadata": {},
   "outputs": [],
   "source": [
    "def call_openai_with_prompt(prompt: str, client, model=\"gpt-3.5-turbo\", temperature=0.7):\n",
    "    \"\"\"\n",
    "    Sends the prompt to the OpenAI Chat API and returns the simplified response.\n",
    "    \"\"\"\n",
    "    print(\"\\n**** Sending message to OpenAI ****\\n\\n\", prompt, \"\\n\")\n",
    "    response = client.chat.completions.create(\n",
    "        model=GPT_MODEL,\n",
    "        messages=[\n",
    "            {\"role\": \"system\", \"content\": \"You are a helpful medical assistant.\"},\n",
    "            {\"role\": \"user\", \"content\": prompt}\n",
    "        ],\n",
    "        temperature=temperature\n",
    "    )\n",
    "\n",
    "    return response.choices[0].message.content\n",
    "\n"
   ]
  },
  {
   "cell_type": "code",
   "execution_count": 6,
   "id": "ffc8d468",
   "metadata": {},
   "outputs": [
    {
     "name": "stdout",
     "output_type": "stream",
     "text": [
      "Why do I get headache when I don't sleep? I often work overnight and my sleep schedule is messed up as I get only 3 hours of sleep some days? Is that a health risk? If yes how serious?\n"
     ]
    }
   ],
   "source": [
    "prompt = \"Why do I get headache when I don't sleep? I often work overnight and my sleep schedule is messed up as I get only 3 hours of sleep some days? Is that a health risk? If yes how serious?\"\n",
    "print(prompt)"
   ]
  },
  {
   "cell_type": "code",
   "execution_count": 7,
   "id": "6a27e0ed",
   "metadata": {},
   "outputs": [
    {
     "name": "stdout",
     "output_type": "stream",
     "text": [
      "\n",
      "**** Sending message to OpenAI ****\n",
      "\n",
      " Why do I get headache when I don't sleep? I often work overnight and my sleep schedule is messed up as I get only 3 hours of sleep some days? Is that a health risk? If yes how serious? \n",
      "\n"
     ]
    },
    {
     "data": {
      "text/plain": [
       "\"Headaches due to lack of sleep, especially when you consistently get only 3 hours of sleep, can occur for several reasons:\\n\\n1. **Sleep Deprivation**: Not getting enough sleep can lead to increased muscle tension and stress, which can trigger headaches.\\n\\n2. **Circadian Rhythm Disruption**: Working overnight and having an irregular sleep schedule can disrupt your body's natural circadian rhythms, leading to various symptoms, including headaches.\\n\\n3. **Increased Stress**: Lack of sleep can increase stress levels and anxiety, both of which can contribute to headache development.\\n\\n4. **Dehydration and Hunger**: Sometimes, when you don’t sleep enough, you might forget to stay hydrated or eat properly, which can also lead to headaches.\\n\\n5. **Migraines**: For some individuals, lack of sleep can act as a trigger for migraine headaches.\\n\\nAs for health risks, chronic sleep deprivation can lead to several serious health issues, including:\\n\\n- **Cognitive Impairment**: Difficulty concentrating, memory problems, and impaired decision-making.\\n- **Mood Disorders**: Increased risk of anxiety, depression, and irritability.\\n- **Cardiovascular Issues**: Higher risk of hypertension, heart disease, and stroke.\\n- **Metabolic Problems**: Increased risk of obesity and diabetes due to hormonal imbalances.\\n- **Weakened Immune System**: Greater susceptibility to infections and illnesses.\\n\\nThe seriousness of these risks can depend on the duration and consistency of your sleep deprivation. It’s advisable to seek ways to improve your sleep schedule, such as:\\n\\n- Establishing a consistent sleep routine.\\n- Creating a sleep-conducive environment (dark, quiet, and cool).\\n- Practicing relaxation techniques before bed.\\n- Limiting caffeine and electronic device usage before sleep.\\n\\nIf headaches persist or you have concerns about your sleep patterns, consider consulting a healthcare professional for further evaluation and guidance. Prioritizing sleep is essential for overall health and well-being.\""
      ]
     },
     "execution_count": 7,
     "metadata": {},
     "output_type": "execute_result"
    }
   ],
   "source": [
    "call_openai_with_prompt(prompt, client)"
   ]
  },
  {
   "cell_type": "code",
   "execution_count": null,
   "id": "900821d8",
   "metadata": {},
   "outputs": [],
   "source": [
    "# Cell 3 - PoC 2: Transcribe audio using Whisper CLI (run this in terminal/shell)\n",
    "# Save this cell content for reference, but execute in terminal\n",
    "\"\"\"\n",
    "# Command to run in terminal after installing whisper and ffmpeg:\n",
    "# Replace 'symptom_audio.wav' with your actual audio file\n",
    "\n",
    "whisper symptom_audio.wav --model base\n",
    "\"\"\"\n"
   ]
  },
  {
   "cell_type": "code",
   "execution_count": null,
   "id": "e42759e7",
   "metadata": {},
   "outputs": [
    {
     "name": "stdout",
     "output_type": "stream",
     "text": [
      "Clarification + Triage Response:\n",
      "\n"
     ]
    }
   ],
   "source": [
    "# Cell 4 - PoC 3: Multi-step clarifying question + triage reasoning\n",
    "clarification_chain = client.chat.completions.create(\n",
    "    model=GPT_MODEL,\n",
    "    messages=[\n",
    "        {\"role\": \"system\", \"content\": \"You are a medical assistant.\"},\n",
    "        {\"role\": \"user\", \"content\": \"I have a headache and slight nausea.\"},\n",
    "        {\"role\": \"assistant\", \"content\": \"Do you also have blurred vision or sensitivity to light?\"},\n",
    "        {\"role\": \"user\", \"content\": \"Yes, both.\"},\n",
    "        {\"role\": \"assistant\", \"content\": \"Thank you. Based on your symptoms and responses, you may have a migraine. \"\n",
    "                                         \"You should monitor at home if symptoms are manageable, but see a doctor if they worsen or persist.\"}\n",
    "    ]\n",
    ")\n",
    "\n",
    "\n"
   ]
  },
  {
   "cell_type": "code",
   "execution_count": 9,
   "id": "4d1d8544",
   "metadata": {},
   "outputs": [
    {
     "name": "stdout",
     "output_type": "stream",
     "text": [
      "Clarification + Triage Response:\n",
      "\n",
      "Thank you for sharing your symptoms. Given that you have a headache, slight nausea, blurred vision, and sensitivity to light, it’s possible that you may be experiencing a migraine. Here are a few suggestions that might help:\n",
      "\n",
      "1. **Rest in a Dark Room**: Find a quiet, dark place to rest, as light and noise can worsen migraine symptoms.\n",
      "\n",
      "2. **Stay Hydrated**: Drink water to avoid dehydration, which can exacerbate headaches.\n",
      "\n",
      "3. **Cold Compress**: Apply a cold compress or ice pack to your forehead for relief.\n",
      "\n",
      "4. **Medication**: Over-the-counter pain relief, such as ibuprofen or acetaminophen, may help. Follow dosing instructions on the label.\n",
      "\n",
      "5. **Relaxation Techniques**: Try deep breathing, meditation, or gentle stretching exercises to relieve tension.\n",
      "\n",
      "However, if your symptoms worsen or if you experience severe pain, confusion, difficulty speaking, or any other concerning symptoms, you should seek medical attention right away. It’s always best to consult with a healthcare professional for personalized advice.\n"
     ]
    }
   ],
   "source": [
    "print(\"Clarification + Triage Response:\\n\")\n",
    "print(clarification_chain.choices[0].message.content)"
   ]
  },
  {
   "cell_type": "code",
   "execution_count": null,
   "id": "d849e1ad",
   "metadata": {},
   "outputs": [
    {
     "name": "stdout",
     "output_type": "stream",
     "text": [
      "Generating guidelines for: Fever\n",
      "Raw response for Fever: Clarifying Questions: [What is your current temperature?, How long have you had the fever?, Are you experiencing any other symptoms such as chills, headache, or rash?, Have you traveled recently or been exposed to anyone who is sick?, Are you taking any medications or have any underlying health conditions?]\n",
      "\n",
      "Conditions to Flag: [Sepsis, Meningitis, Pneumonia, Influenza, COVID-19, Serious infection]\n",
      "\n",
      "Triage Recommendations: [Emergency: Call 911 or go to the nearest emergency room if experiencing difficulty breathing, persistent chest pain, confusion, or seizures, Doctor Visit: Schedule an appointment with your doctor if the fever persists for more than 3 days or is higher than 103°F (39.4°C) with no clear cause, Monitor at Home: Keep track of your symptoms and fever; seek care if symptoms worsen or persist for more than a few days]\n",
      "\n",
      "Safe Advice: [For emergency situations, call for immediate help; for doctor visits, try to avoid contact with others if infectious; for monitoring at home, stay hydrated, rest, and consider over-the-counter fever reducers as needed.]\n"
     ]
    }
   ],
   "source": [
    "\n",
    "\n",
    "# Load API key and organization ID\n",
    "load_dotenv()\n",
    "openai.api_key = os.getenv(\"OPENAI_API_KEY\")\n",
    "openai.organization = os.getenv(\"OPENAI_ORG_ID\")\n",
    "\n",
    "# Create a client\n",
    "client = openai.Client()\n",
    "\n",
    "# Define the symptoms that need guidelines\n",
    "symptoms = [\n",
    "    \"Fever\"\n",
    "]\n",
    "\n",
    "# Function to generate guideline using GPT-3.5 Turbo (client-based)\n",
    "def generate_guideline(symptom):\n",
    "    prompt = f\"\"\"\n",
    "    For the symptom \"{symptom}\", provide:\n",
    "    1. Clarifying questions (comma-separated)\n",
    "    2. Red flag conditions (comma-separated)\n",
    "    3. Triage options (Emergency, Doctor visit, Monitor at home)\n",
    "    4. Safe advice for each triage level (what to do or when to seek care)\n",
    "\n",
    "    Please return a structured response as plain text, separated by '---' for each section. For example:\n",
    "\n",
    "    Clarifying Questions: [Question 1, Question 2]\n",
    "    Conditions to Flag: [Condition 1, Condition 2]\n",
    "    Triage Recommendations: [Emergency: Text, Doctor Visit: Text, Monitor at Home: Text]\n",
    "    Safe Advice: [Text]\n",
    "\n",
    "    Avoid any extra formatting or code blocks.\n",
    "    \"\"\"\n",
    "    \n",
    "    # Chat-based API call using client\n",
    "    response = client.chat.completions.create(\n",
    "        model=GPT_MODEL,\n",
    "        messages=[\n",
    "            {\"role\": \"system\", \"content\": \"You are a helpful medical assistant.\"},\n",
    "            {\"role\": \"user\", \"content\": prompt}\n",
    "        ]\n",
    "    )\n",
    "    \n",
    "    # Correct way to access the content from the response object\n",
    "    raw_response = response.choices[0].message.content\n",
    "    \n",
    "    print(f\"Raw response for {symptom}: {raw_response}\")\n",
    "    \n",
    "    return raw_response\n",
    "\n",
    "# Generate and save guidelines for \"Fever\" only\n",
    "def generate_and_save_guidelines(symptoms):\n",
    "    symptom_guidelines = []\n",
    "    \n",
    "    for symptom in symptoms:\n",
    "        print(f\"Generating guidelines for: {symptom}\")\n",
    "        raw_response = generate_guideline(symptom)\n",
    "\n",
    "        # Extract information using regex or string operations\n",
    "        clarifying_questions = re.findall(r'Clarifying Questions:\\s*(.*?)\\s*---', raw_response, re.DOTALL)\n",
    "        conditions_to_flag = re.findall(r'Conditions to Flag:\\s*(.*?)\\s*---', raw_response, re.DOTALL)\n",
    "        triage_recommendation = re.findall(r'Triage Recommendations:\\s*(.*?)\\s*---', raw_response, re.DOTALL)\n",
    "        safe_advice = re.findall(r'Safe Advice:\\s*(.*?)$', raw_response, re.DOTALL)\n",
    "\n",
    "        # Clean and split the extracted data into individual items (if needed)\n",
    "        clarifying_questions = clarifying_questions[0].split('\\n') if clarifying_questions else []\n",
    "        conditions_to_flag = conditions_to_flag[0].split('\\n') if conditions_to_flag else []\n",
    "        triage_recommendation = triage_recommendation[0].split('\\n') if triage_recommendation else []\n",
    "        safe_advice = safe_advice[0].split('\\n') if safe_advice else []\n",
    "\n",
    "        # You can now structure this data as needed\n",
    "        guideline = {\n",
    "            \"symptom\": symptom,\n",
    "            \"clarifying_questions\": clarifying_questions,\n",
    "            \"conditions_to_flag\": conditions_to_flag,\n",
    "            \"triage_recommendation\": triage_recommendation,\n",
    "            \"safe_advice\": safe_advice\n",
    "        }\n",
    "\n",
    "        symptom_guidelines.append(guideline)\n",
    "\n",
    "    # Save to a text file or CSV\n",
    "    with open(\"symptom_guidelines_fever.txt\", \"w\") as f:\n",
    "        f.write(str(symptom_guidelines))\n",
    "\n",
    "# Run the function for \"Fever\" only\n",
    "generate_and_save_guidelines(symptoms)\n"
   ]
  },
  {
   "cell_type": "code",
   "execution_count": null,
   "id": "b874997b",
   "metadata": {},
   "outputs": [
    {
     "name": "stdout",
     "output_type": "stream",
     "text": [
      "Loaded symptom guidelines:\n",
      "tension_headache\n",
      "migraine\n",
      "cluster_headache\n",
      "thunderclap_headache\n",
      "rebound_headache\n",
      "cough\n",
      "nasal_congestion\n",
      "runny_nose\n",
      "sneezing\n",
      "postnasal_drip\n",
      "fever\n",
      "chills\n",
      "fatigue\n",
      "facial_pain_or_pressure\n",
      "ear_fullness_or_pain\n",
      "blurred_vision\n",
      "dizziness\n",
      "nausea_vomiting_with_headache\n",
      "neck_stiffness\n",
      "confusion_or_altered_mental_status\n",
      "headache_after_bending_over\n",
      "headache_after_physical_exertion\n",
      "headache_after_sexual_activity\n",
      "valsalva_maneuver_induced_headache\n"
     ]
    }
   ],
   "source": [
    "# Load the symptom guidelines JSON file\n",
    "with open('../data/combined_symptom_database.json', 'r') as file:\n",
    "    symptom_guidelines = json.load(file)\n",
    "# Print the loaded guidelines\n",
    "print(\"Loaded symptom guidelines:\")\n",
    "for guideline in symptom_guidelines:\n",
    "    print(guideline)\n"
   ]
  },
  {
   "cell_type": "code",
   "execution_count": 13,
   "id": "49f4c309",
   "metadata": {},
   "outputs": [],
   "source": [
    "def get_symptom_guidelines(symptom):\n",
    "    \"\"\"\n",
    "    Given a symptom, fetch its corresponding data (questions, conditions, etc.) from the symptom database.\n",
    "    \"\"\"\n",
    "    symptom = symptom.lower()\n",
    "    if symptom in symptom_guidelines:\n",
    "        return symptom_guidelines[symptom]\n",
    "    else:\n",
    "        return None  # If symptom not found\n",
    "    print(f\"Guidelines for {symptom}:\")\n",
    "    print(f\"Clarifying Questions: {guideline['clarifying_questions']}\")\n",
    "    print(f\"Conditions to Flag: {guideline['conditions_to_flag']}\")\n",
    "    print(f\"Triage Recommendations: {guideline['triage_recommendation']}\")\n",
    "    print(f\"Safe Advice: {guideline['safe_advice']}\")\n",
    "# Example usage\n"
   ]
  },
  {
   "cell_type": "code",
   "execution_count": 14,
   "id": "63713822",
   "metadata": {},
   "outputs": [
    {
     "name": "stdout",
     "output_type": "stream",
     "text": [
      "Prompt for OpenAI:\n",
      "Why do I get headache when I don't sleep? I often work overnight and my sleep schedule is messed up as I get only 3 hours of sleep some days? Is that a health risk? If yes how serious?\n"
     ]
    }
   ],
   "source": [
    "symptom = \"headache\"  # Example input from the user\n",
    "symptom_data = get_symptom_guidelines(symptom)\n",
    "\n",
    "if symptom_data:\n",
    "    prompt = f\"\"\"\n",
    "    For the symptom \"{symptom}\", generate the following:\n",
    "    1. Clarifying questions to ask the patient.\n",
    "    2. Red flag conditions that need to be flagged.\n",
    "    3. Triage options (Emergency, Doctor visit, Monitor at home).\n",
    "    4. Safe advice for each triage level (what to do or when to seek care).\n",
    "\n",
    "    Clarifying Questions: {symptom_data['clarifying_questions']}\n",
    "    Conditions to Flag: {symptom_data['conditions_to_flag']}\n",
    "    Triage Recommendations: {symptom_data['triage_recommendations']}\n",
    "    Safe Advice: {symptom_data['safe_advice']}\n",
    "    \"\"\"\n",
    "\n",
    "print(\"Prompt for OpenAI:\")\n",
    "print(prompt)"
   ]
  },
  {
   "cell_type": "code",
   "execution_count": 15,
   "id": "442460fc",
   "metadata": {},
   "outputs": [],
   "source": [
    "def generate_guideline_prompt(symptom):\n",
    "    \"\"\"\n",
    "    Given a symptom, generate a structured GPT-4 prompt using the symptom's details.\n",
    "    \"\"\"\n",
    "    symptom_data = get_symptom_guidelines(symptom)\n",
    "\n",
    "    if symptom_data is None:\n",
    "        return f\"Sorry, we don't have guidelines for {symptom}.\"\n",
    "\n",
    "    # Construct the prompt using the structured data\n",
    "    prompt = f\"\"\"\n",
    "    For the symptom \"{symptom}\", generate the following:\n",
    "    1. Clarifying questions to ask the patient.\n",
    "    2. Red flag conditions that need to be flagged.\n",
    "    3. Triage options (Emergency, Doctor visit, Monitor at home).\n",
    "    4. Safe advice for each triage level (what to do or when to seek care).\n",
    "\n",
    "    Clarifying Questions: {symptom_data['clarifying_questions']}\n",
    "    Conditions to Flag: {symptom_data['conditions_to_flag']}\n",
    "    Triage Recommendations: {symptom_data['triage_recommendations']}\n",
    "    Safe Advice: {symptom_data['safe_advice']}\n",
    "    \"\"\"\n",
    "    return prompt\n"
   ]
  },
  {
   "cell_type": "code",
   "execution_count": null,
   "id": "38e97332",
   "metadata": {},
   "outputs": [],
   "source": [
    "# # Load API key and organization ID from environment variables\n",
    "# load_dotenv()\n",
    "# openai.api_key = os.getenv(\"OPENAI_API_KEY\")\n",
    "# openai.organization = os.getenv(\"OPENAI_ORG_ID\")\n",
    "\n",
    "# def get_gpt_response(prompt):\n",
    "#     \"\"\"\n",
    "#     Get GPT response for the given prompt.\n",
    "#     \"\"\"\n",
    "#     response = openai.ChatCompletion.create(\n",
    "#         model=\"gpt-3.5-turbo\",  # Using GPT-3.5 turbo\n",
    "#         messages=[\n",
    "#             {\"role\": \"system\", \"content\": \"You are a helpful medical assistant.\"},\n",
    "#             {\"role\": \"user\", \"content\": prompt}\n",
    "#         ]\n",
    "#     )\n",
    "#     return response.choices[0].message.content\n"
   ]
  },
  {
   "cell_type": "code",
   "execution_count": null,
   "id": "cbfeb387",
   "metadata": {},
   "outputs": [],
   "source": [
    "def display_result(symptom):\n",
    "    prompt = generate_guideline_prompt(symptom)\n",
    "    print(f\"Generated Prompt: {prompt}\")  # Debugging line\n",
    "    if \"Sorry\" in prompt:\n",
    "        st.write(prompt)\n",
    "    else:\n",
    "        gpt_response = get_gpt_response(prompt)\n",
    "        print(f\"GPT Response: {gpt_response}\")  # Debugging line\n",
    "        if gpt_response:\n",
    "            st.write(gpt_response)\n",
    "        else:\n",
    "            st.write(\"No response generated.\")\n"
   ]
  },
  {
   "cell_type": "code",
   "execution_count": null,
   "id": "e4678ac8",
   "metadata": {},
   "outputs": [],
   "source": [
    "# # Function to display the result for the entered symptom\n",
    "# def display_result(symptom):\n",
    "#     prompt = generate_guideline_prompt(symptom)  # Generate prompt for symptom\n",
    "#     if \"Sorry\" in prompt:  # Check if symptom was found\n",
    "#         st.write(prompt)\n",
    "#     else:\n",
    "#         gpt_response = get_gpt_response(prompt)  # Get response from GPT-4\n",
    "#         st.write(gpt_response)\n",
    "\n",
    "# # Streamlit UI setup\n",
    "# st.title(\"Medical Symptom Advisor\")\n",
    "# symptom_input = st.text_input(\"Enter a symptom:\", \"\")\n"
   ]
  },
  {
   "cell_type": "code",
   "execution_count": null,
   "id": "aba64765",
   "metadata": {},
   "outputs": [],
   "source": [
    "# Title of the app\n",
    "st.title('Streamlit Test App')\n",
    "\n",
    "# Display a simple text\n",
    "st.write(\"Hello, Streamlit is working!\")\n",
    "\n",
    "# You can add more interactive widgets, such as sliders or buttons\n",
    "number = st.slider(\"Pick a number\", 0, 100)\n",
    "st.write(f\"Selected number: {number}\")\n"
   ]
  }
 ],
 "metadata": {
  "kernelspec": {
   "display_name": "AIHC",
   "language": "python",
   "name": "python3"
  },
  "language_info": {
   "codemirror_mode": {
    "name": "ipython",
    "version": 3
   },
   "file_extension": ".py",
   "mimetype": "text/x-python",
   "name": "python",
   "nbconvert_exporter": "python",
   "pygments_lexer": "ipython3",
   "version": "3.11.11"
  }
 },
 "nbformat": 4,
 "nbformat_minor": 5
}
